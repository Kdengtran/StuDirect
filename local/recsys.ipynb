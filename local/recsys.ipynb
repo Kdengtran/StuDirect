{
 "cells": [
  {
   "cell_type": "code",
   "execution_count": 26,
   "metadata": {},
   "outputs": [],
   "source": [
    "import gspread\n",
    "\n",
    "import numpy as np \n",
    "import pandas as pd \n",
    "import sklearn\n",
    "\n",
    "from sklearn.feature_extraction.text import TfidfVectorizer\n",
    "\n",
    "from helper import * "
   ]
  },
  {
   "cell_type": "markdown",
   "metadata": {},
   "source": [
    "### User profiles"
   ]
  },
  {
   "cell_type": "code",
   "execution_count": 13,
   "metadata": {},
   "outputs": [],
   "source": [
    "# this is the input data from Glide\n",
    "dummy_data = pythonanywhere_api_call(\"Kevin Tran; University of Amsterdam; Data Science; Python, \\\n",
    "    SQL, Machine Learning, DevOps Engineering\")\n",
    "\n",
    "# preprocess data\n",
    "user_data = dummy_data.split(';')\n",
    "\n",
    "# create df\n",
    "user_df = pd.DataFrame(data=[user_data], columns=['Name', 'University', 'Major', 'Skills'])"
   ]
  },
  {
   "cell_type": "markdown",
   "metadata": {},
   "source": [
    "### Job profiles"
   ]
  },
  {
   "cell_type": "code",
   "execution_count": 18,
   "metadata": {},
   "outputs": [],
   "source": [
    "# connect to spreadsheets using json credentials\n",
    "gc = gspread.service_account(filename='google_kevin.json')\n",
    "\n",
    "# open the worksheets and select the first; we don't have other worksheets\n",
    "sh = gc.open_by_key('1T2If_xR-fhQw6hFejDxdPLLnz1J0lDstTKZ1FJVNwQI') # extract key from https\n",
    "worksheet = sh.sheet1\n",
    "\n",
    "# fetch data and return a Pandas DataFrame\n",
    "results = worksheet.get_all_records()\n",
    "job_df = pd.DataFrame(results).set_index(job_df.columns[0])"
   ]
  },
  {
   "cell_type": "markdown",
   "metadata": {},
   "source": [
    "### Matching"
   ]
  },
  {
   "cell_type": "code",
   "execution_count": 27,
   "metadata": {},
   "outputs": [
    {
     "data": {
      "text/plain": [
       "🔒 Row ID\n",
       "CMfRhIqfRACNElBh6krumQ                   Python, SQL, Pyspark, Hadoop, AWS\n",
       "xBXKnk3aR56eJaT8YcgWqw                                              R, SQL\n",
       "axFUZ2GJQYe3R7vcnfJFZw                 Python, SQL, Pyspark, Hadoop, Azure\n",
       "cwTr3r-EQlO4NnVtxL1tKQ                              Power BI, Tableau, SQL\n",
       "ljtVllltRr6jKalBSZ7nvw                                R, Power BI, Tableau\n",
       "xYa4qEjGQuSVU.-JvlSeTw     Python, SQL, Pyspark, Kubernetes, Docker, Azure\n",
       "a.fUCFw6bTPWHTdpP1q5KiQ                                Python, SQL, Pandas\n",
       "Name: Preferred skills, dtype: object"
      ]
     },
     "execution_count": 27,
     "metadata": {},
     "output_type": "execute_result"
    }
   ],
   "source": [
    "job_df['Preferred skills']"
   ]
  },
  {
   "cell_type": "code",
   "execution_count": 16,
   "metadata": {},
   "outputs": [
    {
     "data": {
      "text/html": [
       "<div>\n",
       "<style scoped>\n",
       "    .dataframe tbody tr th:only-of-type {\n",
       "        vertical-align: middle;\n",
       "    }\n",
       "\n",
       "    .dataframe tbody tr th {\n",
       "        vertical-align: top;\n",
       "    }\n",
       "\n",
       "    .dataframe thead th {\n",
       "        text-align: right;\n",
       "    }\n",
       "</style>\n",
       "<table border=\"1\" class=\"dataframe\">\n",
       "  <thead>\n",
       "    <tr style=\"text-align: right;\">\n",
       "      <th></th>\n",
       "      <th>Name</th>\n",
       "      <th>University</th>\n",
       "      <th>Major</th>\n",
       "      <th>Skills</th>\n",
       "    </tr>\n",
       "  </thead>\n",
       "  <tbody>\n",
       "    <tr>\n",
       "      <th>0</th>\n",
       "      <td>Kevin Tran</td>\n",
       "      <td>University of Amsterdam</td>\n",
       "      <td>Data Science</td>\n",
       "      <td>Python,     SQL, Machine Learning, DevOps Eng...</td>\n",
       "    </tr>\n",
       "  </tbody>\n",
       "</table>\n",
       "</div>"
      ],
      "text/plain": [
       "         Name                University          Major  \\\n",
       "0  Kevin Tran   University of Amsterdam   Data Science   \n",
       "\n",
       "                                              Skills  \n",
       "0   Python,     SQL, Machine Learning, DevOps Eng...  "
      ]
     },
     "execution_count": 16,
     "metadata": {},
     "output_type": "execute_result"
    }
   ],
   "source": [
    "user_df"
   ]
  },
  {
   "cell_type": "code",
   "execution_count": 58,
   "metadata": {},
   "outputs": [],
   "source": [
    "vectorizer = TfidfVectorizer()\n",
    "\n",
    "vec = vectorizer.fit_transform(['Python, SQL, Pyspark, Hadoop, AWS'])"
   ]
  },
  {
   "cell_type": "code",
   "execution_count": 56,
   "metadata": {},
   "outputs": [],
   "source": [
    "index_words = vectorizer.get_feature_names_out()\n",
    "tfidf = pd.DataFrame(vec[0].T.todense(), index=index_words, columns=['TF-IDF'])\n",
    "\n",
    "tfidf_df = tfidf.sort_values('TF-IDF', ascending=False)"
   ]
  },
  {
   "cell_type": "code",
   "execution_count": 57,
   "metadata": {},
   "outputs": [
    {
     "data": {
      "text/html": [
       "<div>\n",
       "<style scoped>\n",
       "    .dataframe tbody tr th:only-of-type {\n",
       "        vertical-align: middle;\n",
       "    }\n",
       "\n",
       "    .dataframe tbody tr th {\n",
       "        vertical-align: top;\n",
       "    }\n",
       "\n",
       "    .dataframe thead th {\n",
       "        text-align: right;\n",
       "    }\n",
       "</style>\n",
       "<table border=\"1\" class=\"dataframe\">\n",
       "  <thead>\n",
       "    <tr style=\"text-align: right;\">\n",
       "      <th></th>\n",
       "      <th>TF-IDF</th>\n",
       "    </tr>\n",
       "  </thead>\n",
       "  <tbody>\n",
       "    <tr>\n",
       "      <th>python</th>\n",
       "      <td>0.707107</td>\n",
       "    </tr>\n",
       "    <tr>\n",
       "      <th>aws</th>\n",
       "      <td>0.353553</td>\n",
       "    </tr>\n",
       "    <tr>\n",
       "      <th>hadoop</th>\n",
       "      <td>0.353553</td>\n",
       "    </tr>\n",
       "    <tr>\n",
       "      <th>pyspark</th>\n",
       "      <td>0.353553</td>\n",
       "    </tr>\n",
       "    <tr>\n",
       "      <th>sql</th>\n",
       "      <td>0.353553</td>\n",
       "    </tr>\n",
       "  </tbody>\n",
       "</table>\n",
       "</div>"
      ],
      "text/plain": [
       "           TF-IDF\n",
       "python   0.707107\n",
       "aws      0.353553\n",
       "hadoop   0.353553\n",
       "pyspark  0.353553\n",
       "sql      0.353553"
      ]
     },
     "execution_count": 57,
     "metadata": {},
     "output_type": "execute_result"
    }
   ],
   "source": [
    "tfidf_df"
   ]
  },
  {
   "cell_type": "code",
   "execution_count": null,
   "metadata": {},
   "outputs": [],
   "source": []
  }
 ],
 "metadata": {
  "kernelspec": {
   "display_name": "Python 3.9.7 ('base')",
   "language": "python",
   "name": "python3"
  },
  "language_info": {
   "codemirror_mode": {
    "name": "ipython",
    "version": 3
   },
   "file_extension": ".py",
   "mimetype": "text/x-python",
   "name": "python",
   "nbconvert_exporter": "python",
   "pygments_lexer": "ipython3",
   "version": "3.9.7"
  },
  "orig_nbformat": 4,
  "vscode": {
   "interpreter": {
    "hash": "fc248dc12182b169710c983f352a32c38b6c332c467e5161d9eb29ad6fdc6121"
   }
  }
 },
 "nbformat": 4,
 "nbformat_minor": 2
}
