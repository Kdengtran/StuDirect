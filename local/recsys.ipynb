{
 "cells": [
  {
   "cell_type": "code",
   "execution_count": 2,
   "metadata": {},
   "outputs": [],
   "source": [
    "import numpy as np \n",
    "import pandas as pd \n",
    "\n",
    "import gspread"
   ]
  },
  {
   "cell_type": "markdown",
   "metadata": {},
   "source": [
    "### User profiles"
   ]
  },
  {
   "cell_type": "code",
   "execution_count": 2,
   "metadata": {},
   "outputs": [],
   "source": [
    "# this is the input data from Glide\n",
    "dummy_data = 'kaas; pizza; ham, kaas; tonijn'\n",
    "\n",
    "# preprocess data\n",
    "user_data = dummy_data.split(';')\n",
    "\n",
    "# create df\n",
    "user_df = pd.DataFrame(data=[data], columns=['input1', 'input2', 'input3', 'input4'])"
   ]
  },
  {
   "cell_type": "markdown",
   "metadata": {},
   "source": [
    "### Job profiles"
   ]
  },
  {
   "cell_type": "code",
   "execution_count": 7,
   "metadata": {},
   "outputs": [],
   "source": [
    "# connect to spreadsheets using json credentials\n",
    "gc = gspread.service_account(filename='google_kevin.json')\n",
    "\n",
    "# open the worksheets and select the first; we don't have other worksheets\n",
    "sh = gc.open_by_key('1T2If_xR-fhQw6hFejDxdPLLnz1J0lDstTKZ1FJVNwQI') # extract key from https\n",
    "worksheet = sh.sheet1\n",
    "\n",
    "# fetch data and return a Pandas DataFrame\n",
    "results = worksheet.get_all_records()\n",
    "job_df = pd.DataFrame(results)"
   ]
  },
  {
   "cell_type": "markdown",
   "metadata": {},
   "source": [
    "### Matching"
   ]
  },
  {
   "cell_type": "markdown",
   "metadata": {},
   "source": []
  }
 ],
 "metadata": {
  "kernelspec": {
   "display_name": "Python 3.9.7 ('base')",
   "language": "python",
   "name": "python3"
  },
  "language_info": {
   "codemirror_mode": {
    "name": "ipython",
    "version": 3
   },
   "file_extension": ".py",
   "mimetype": "text/x-python",
   "name": "python",
   "nbconvert_exporter": "python",
   "pygments_lexer": "ipython3",
   "version": "3.9.7"
  },
  "orig_nbformat": 4,
  "vscode": {
   "interpreter": {
    "hash": "fc248dc12182b169710c983f352a32c38b6c332c467e5161d9eb29ad6fdc6121"
   }
  }
 },
 "nbformat": 4,
 "nbformat_minor": 2
}
