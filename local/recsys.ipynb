{
 "cells": [
  {
   "cell_type": "code",
   "execution_count": 162,
   "metadata": {},
   "outputs": [],
   "source": [
    "import gspread\n",
    "\n",
    "import numpy as np \n",
    "import pandas as pd \n",
    "import sklearn\n",
    "\n",
    "from sklearn.feature_extraction.text import TfidfVectorizer, CountVectorizer\n",
    "from sklearn.metrics.pairwise import cosine_similarity\n",
    "\n",
    "# clean tokens\n",
    "from nltk.corpus import stopwords\n",
    "import string\n",
    "\n",
    "from helper import * "
   ]
  },
  {
   "cell_type": "markdown",
   "metadata": {},
   "source": [
    "### User profiles"
   ]
  },
  {
   "cell_type": "code",
   "execution_count": 18,
   "metadata": {},
   "outputs": [],
   "source": [
    "# this is the \"input data from\" Glide\n",
    "dummy_data = pythonanywhere_api_call(\"Kevin Tran; University of Amsterdam; Data Science; Python, \\\n",
    "    SQL, Machine Learning, DevOps Engineering\")\n",
    "\n",
    "# preprocess data\n",
    "user_data = dummy_data.split(';')\n",
    "\n",
    "# create df\n",
    "user_df = pd.DataFrame(data=[user_data], columns=['Name', 'University', 'Major', 'Skills'])"
   ]
  },
  {
   "cell_type": "markdown",
   "metadata": {},
   "source": [
    "### Job profiles"
   ]
  },
  {
   "cell_type": "code",
   "execution_count": 19,
   "metadata": {},
   "outputs": [],
   "source": [
    "# connect to spreadsheets using json credentials downloaded from Google Cloud\n",
    "gc = gspread.service_account(filename='credentials.json')\n",
    "\n",
    "# open the worksheets and select the first; we don't have other worksheets\n",
    "sh = gc.open_by_key('1T2If_xR-fhQw6hFejDxdPLLnz1J0lDstTKZ1FJVNwQI') # extract key from https\n",
    "worksheet = sh.sheet1\n",
    "\n",
    "# fetch data and return a Pandas DataFrame\n",
    "results = worksheet.get_all_records()\n",
    "job_df = pd.DataFrame(results)\n",
    "job_df.set_index(job_df.columns[0], inplace=True)"
   ]
  },
  {
   "cell_type": "markdown",
   "metadata": {},
   "source": [
    "### Matching"
   ]
  },
  {
   "cell_type": "markdown",
   "metadata": {},
   "source": [
    "https://medium.com/mlearning-ai/enhancing-information-retrieval-via-semantic-and-relevance-matching-64973ff81818\n",
    "\n",
    "1. Create matrices for both the user and job profiles\n",
    "2. Fit a bag-of-words based model (e.g. TF-IDF)\n",
    "3. Calculate the cosine similarity\n",
    "4. Rank the documents"
   ]
  },
  {
   "cell_type": "code",
   "execution_count": 247,
   "metadata": {},
   "outputs": [],
   "source": [
    "def clean_data(df, user=True):\n",
    "\n",
    "    if user == True:\n",
    "        data = df.iloc[0, 1:].values\n",
    "    else:\n",
    "        data = df['Job title'].iloc[0] + \", \" + df['Preferred skills'].iloc[0]\n",
    "\n",
    "    # remove whitespaces and comma, and lowercase all tokens\n",
    "    phase1 = \"\".join(word for word in data).split(',')\n",
    "    phase1 = [word.strip().lower() for word in phase1]\n",
    "    \n",
    "    # remove stopwords\n",
    "    dutch_stopwords_and_punctuation = stopwords.words('dutch') + [string.punctuation]\n",
    "    phase2 = [word for word in phase1 if word not in dutch_stopwords_and_punctuation]\n",
    "\n",
    "    # create final string\n",
    "    output = \" \".join(token for token in phase2)\n",
    "\n",
    "    return output\n",
    "\n",
    "def match(user, job):\n",
    "\n",
    "    bow_model = TfidfVectorizer()\n",
    "    tf_idf = bow_model.fit_transform([clean_data(user), clean_data(job, False)])\n",
    "\n",
    "    return print('This user has a {}% match with this job profile.'.format((cosine_similarity(tf_idf)[0][1] * 100).round(2)))\n"
   ]
  },
  {
   "cell_type": "code",
   "execution_count": 248,
   "metadata": {},
   "outputs": [
    {
     "name": "stdout",
     "output_type": "stream",
     "text": [
      "This user has a 20.95% match with this job profile.\n"
     ]
    }
   ],
   "source": [
    "match(user_df, job_df)"
   ]
  }
 ],
 "metadata": {
  "kernelspec": {
   "display_name": "Python 3.9.7 ('base')",
   "language": "python",
   "name": "python3"
  },
  "language_info": {
   "codemirror_mode": {
    "name": "ipython",
    "version": 3
   },
   "file_extension": ".py",
   "mimetype": "text/x-python",
   "name": "python",
   "nbconvert_exporter": "python",
   "pygments_lexer": "ipython3",
   "version": "3.9.7 (default, Sep 16 2021, 08:50:36) \n[Clang 10.0.0 ]"
  },
  "orig_nbformat": 4,
  "vscode": {
   "interpreter": {
    "hash": "fc248dc12182b169710c983f352a32c38b6c332c467e5161d9eb29ad6fdc6121"
   }
  }
 },
 "nbformat": 4,
 "nbformat_minor": 2
}
